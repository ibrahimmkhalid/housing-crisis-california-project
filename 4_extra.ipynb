{
 "cells": [
  {
   "cell_type": "code",
   "execution_count": 1,
   "metadata": {},
   "outputs": [
    {
     "name": "stdout",
     "output_type": "stream",
     "text": [
      "Collecting dataframe_image\n",
      "  Downloading dataframe_image-0.2.7-py3-none-any.whl (6.7 MB)\n",
      "\u001b[2K     \u001b[90m━━━━━━━━━━━━━━━━━━━━━━━━━━━━━━━━━━━━━━━━\u001b[0m \u001b[32m6.7/6.7 MB\u001b[0m \u001b[31m12.1 MB/s\u001b[0m eta \u001b[36m0:00:00\u001b[0m00:01\u001b[0m00:01\u001b[0m\n",
      "\u001b[?25hCollecting nbconvert>=5\n",
      "  Using cached nbconvert-7.16.6-py3-none-any.whl (258 kB)\n",
      "Collecting pandas>=0.24\n",
      "  Using cached pandas-2.2.3-cp310-cp310-manylinux_2_17_x86_64.manylinux2014_x86_64.whl (13.1 MB)\n",
      "Collecting aiohttp>=3.10.2\n",
      "  Downloading aiohttp-3.11.18-cp310-cp310-manylinux_2_17_x86_64.manylinux2014_x86_64.whl (1.6 MB)\n",
      "\u001b[2K     \u001b[90m━━━━━━━━━━━━━━━━━━━━━━━━━━━━━━━━━━━━━━━━\u001b[0m \u001b[32m1.6/1.6 MB\u001b[0m \u001b[31m12.9 MB/s\u001b[0m eta \u001b[36m0:00:00\u001b[0ma \u001b[36m0:00:01\u001b[0m\n",
      "\u001b[?25hCollecting playwright\n",
      "  Downloading playwright-1.52.0-py3-none-manylinux1_x86_64.whl (45.1 MB)\n",
      "\u001b[2K     \u001b[90m━━━━━━━━━━━━━━━━━━━━━━━━━━━━━━━━━━━━━━━━\u001b[0m \u001b[32m45.1/45.1 MB\u001b[0m \u001b[31m10.5 MB/s\u001b[0m eta \u001b[36m0:00:00\u001b[0m00:01\u001b[0m00:01\u001b[0m\n",
      "\u001b[?25hCollecting cssselect\n",
      "  Downloading cssselect-1.3.0-py3-none-any.whl (18 kB)\n",
      "Collecting mistune\n",
      "  Using cached mistune-3.1.3-py3-none-any.whl (53 kB)\n",
      "Collecting pillow\n",
      "  Downloading pillow-11.2.1-cp310-cp310-manylinux_2_28_x86_64.whl (4.6 MB)\n",
      "\u001b[2K     \u001b[90m━━━━━━━━━━━━━━━━━━━━━━━━━━━━━━━━━━━━━━━━\u001b[0m \u001b[32m4.6/4.6 MB\u001b[0m \u001b[31m10.9 MB/s\u001b[0m eta \u001b[36m0:00:00\u001b[0m00:01\u001b[0m00:01\u001b[0m\n",
      "\u001b[?25hCollecting cssutils\n",
      "  Downloading cssutils-2.11.1-py3-none-any.whl (385 kB)\n",
      "\u001b[2K     \u001b[90m━━━━━━━━━━━━━━━━━━━━━━━━━━━━━━━━━━━━━━\u001b[0m \u001b[32m385.7/385.7 KB\u001b[0m \u001b[31m12.9 MB/s\u001b[0m eta \u001b[36m0:00:00\u001b[0m\n",
      "\u001b[?25hCollecting lxml\n",
      "  Downloading lxml-5.4.0-cp310-cp310-manylinux_2_28_x86_64.whl (5.1 MB)\n",
      "\u001b[2K     \u001b[90m━━━━━━━━━━━━━━━━━━━━━━━━━━━━━━━━━━━━━━━━\u001b[0m \u001b[32m5.1/5.1 MB\u001b[0m \u001b[31m13.0 MB/s\u001b[0m eta \u001b[36m0:00:00\u001b[0m00:01\u001b[0m00:01\u001b[0m\n",
      "\u001b[?25hCollecting beautifulsoup4\n",
      "  Downloading beautifulsoup4-4.13.4-py3-none-any.whl (187 kB)\n",
      "\u001b[2K     \u001b[90m━━━━━━━━━━━━━━━━━━━━━━━━━━━━━━━━━━━━━━\u001b[0m \u001b[32m187.3/187.3 KB\u001b[0m \u001b[31m10.8 MB/s\u001b[0m eta \u001b[36m0:00:00\u001b[0m\n",
      "\u001b[?25hRequirement already satisfied: packaging in ./venv/lib/python3.10/site-packages (from dataframe_image) (25.0)\n",
      "Collecting requests\n",
      "  Using cached requests-2.32.3-py3-none-any.whl (64 kB)\n",
      "Collecting async-timeout<6.0,>=4.0\n",
      "  Using cached async_timeout-5.0.1-py3-none-any.whl (6.2 kB)\n",
      "Collecting aiohappyeyeballs>=2.3.0\n",
      "  Using cached aiohappyeyeballs-2.6.1-py3-none-any.whl (15 kB)\n",
      "Collecting attrs>=17.3.0\n",
      "  Using cached attrs-25.3.0-py3-none-any.whl (63 kB)\n",
      "Collecting propcache>=0.2.0\n",
      "  Using cached propcache-0.3.1-cp310-cp310-manylinux_2_17_x86_64.manylinux2014_x86_64.whl (206 kB)\n",
      "Collecting yarl<2.0,>=1.17.0\n",
      "  Downloading yarl-1.20.0-cp310-cp310-manylinux_2_17_x86_64.manylinux2014_x86_64.whl (333 kB)\n",
      "\u001b[2K     \u001b[90m━━━━━━━━━━━━━━━━━━━━━━━━━━━━━━━━━━━━━━\u001b[0m \u001b[32m333.9/333.9 KB\u001b[0m \u001b[31m10.8 MB/s\u001b[0m eta \u001b[36m0:00:00\u001b[0m\n",
      "\u001b[?25hCollecting multidict<7.0,>=4.5\n",
      "  Downloading multidict-6.4.3-cp310-cp310-manylinux_2_17_x86_64.manylinux2014_x86_64.whl (219 kB)\n",
      "\u001b[2K     \u001b[90m━━━━━━━━━━━━━━━━━━━━━━━━━━━━━━━━━━━━━━\u001b[0m \u001b[32m219.8/219.8 KB\u001b[0m \u001b[31m11.1 MB/s\u001b[0m eta \u001b[36m0:00:00\u001b[0m\n",
      "\u001b[?25hCollecting frozenlist>=1.1.1\n",
      "  Downloading frozenlist-1.6.0-cp310-cp310-manylinux_2_5_x86_64.manylinux1_x86_64.manylinux_2_17_x86_64.manylinux2014_x86_64.whl (287 kB)\n",
      "\u001b[2K     \u001b[90m━━━━━━━━━━━━━━━━━━━━━━━━━━━━━━━━━━━━━━\u001b[0m \u001b[32m287.3/287.3 KB\u001b[0m \u001b[31m11.6 MB/s\u001b[0m eta \u001b[36m0:00:00\u001b[0m\n",
      "\u001b[?25hCollecting aiosignal>=1.1.2\n",
      "  Using cached aiosignal-1.3.2-py2.py3-none-any.whl (7.6 kB)\n",
      "Collecting nbformat>=5.7\n",
      "  Using cached nbformat-5.10.4-py3-none-any.whl (78 kB)\n",
      "Requirement already satisfied: traitlets>=5.1 in ./venv/lib/python3.10/site-packages (from nbconvert>=5->dataframe_image) (5.14.3)\n",
      "Collecting pandocfilters>=1.4.1\n",
      "  Using cached pandocfilters-1.5.1-py2.py3-none-any.whl (8.7 kB)\n",
      "Collecting markupsafe>=2.0\n",
      "  Using cached MarkupSafe-3.0.2-cp310-cp310-manylinux_2_17_x86_64.manylinux2014_x86_64.whl (20 kB)\n",
      "Collecting jupyterlab-pygments\n",
      "  Using cached jupyterlab_pygments-0.3.0-py3-none-any.whl (15 kB)\n",
      "Collecting nbclient>=0.5.0\n",
      "  Using cached nbclient-0.10.2-py3-none-any.whl (25 kB)\n",
      "Requirement already satisfied: pygments>=2.4.1 in ./venv/lib/python3.10/site-packages (from nbconvert>=5->dataframe_image) (2.19.1)\n",
      "Requirement already satisfied: jupyter-core>=4.7 in ./venv/lib/python3.10/site-packages (from nbconvert>=5->dataframe_image) (5.7.2)\n",
      "Collecting bleach[css]!=5.0.0\n",
      "  Using cached bleach-6.2.0-py3-none-any.whl (163 kB)\n",
      "Collecting jinja2>=3.0\n",
      "  Using cached jinja2-3.1.6-py3-none-any.whl (134 kB)\n",
      "Collecting defusedxml\n",
      "  Using cached defusedxml-0.7.1-py2.py3-none-any.whl (25 kB)\n",
      "Requirement already satisfied: typing-extensions in ./venv/lib/python3.10/site-packages (from mistune->dataframe_image) (4.13.2)\n",
      "Collecting numpy>=1.22.4\n",
      "  Downloading numpy-2.2.5-cp310-cp310-manylinux_2_17_x86_64.manylinux2014_x86_64.whl (16.4 MB)\n",
      "\u001b[2K     \u001b[90m━━━━━━━━━━━━━━━━━━━━━━━━━━━━━━━━━━━━━━━━\u001b[0m \u001b[32m16.4/16.4 MB\u001b[0m \u001b[31m13.1 MB/s\u001b[0m eta \u001b[36m0:00:00\u001b[0m00:01\u001b[0m00:01\u001b[0m\n",
      "\u001b[?25hCollecting tzdata>=2022.7\n",
      "  Using cached tzdata-2025.2-py2.py3-none-any.whl (347 kB)\n",
      "Collecting pytz>=2020.1\n",
      "  Using cached pytz-2025.2-py2.py3-none-any.whl (509 kB)\n",
      "Requirement already satisfied: python-dateutil>=2.8.2 in ./venv/lib/python3.10/site-packages (from pandas>=0.24->dataframe_image) (2.9.0.post0)\n",
      "Collecting soupsieve>1.2\n",
      "  Downloading soupsieve-2.7-py3-none-any.whl (36 kB)\n",
      "Collecting more-itertools\n",
      "  Downloading more_itertools-10.7.0-py3-none-any.whl (65 kB)\n",
      "\u001b[2K     \u001b[90m━━━━━━━━━━━━━━━━━━━━━━━━━━━━━━━━━━━━━━━━\u001b[0m \u001b[32m65.3/65.3 KB\u001b[0m \u001b[31m7.4 MB/s\u001b[0m eta \u001b[36m0:00:00\u001b[0m\n",
      "\u001b[?25hCollecting greenlet<4.0.0,>=3.1.1\n",
      "  Using cached greenlet-3.2.1-cp310-cp310-manylinux_2_24_x86_64.manylinux_2_28_x86_64.whl (580 kB)\n",
      "Collecting pyee<14,>=13\n",
      "  Downloading pyee-13.0.0-py3-none-any.whl (15 kB)\n",
      "Collecting certifi>=2017.4.17\n",
      "  Using cached certifi-2025.4.26-py3-none-any.whl (159 kB)\n",
      "Collecting urllib3<3,>=1.21.1\n",
      "  Using cached urllib3-2.4.0-py3-none-any.whl (128 kB)\n",
      "Collecting charset-normalizer<4,>=2\n",
      "  Using cached charset_normalizer-3.4.2-cp310-cp310-manylinux_2_17_x86_64.manylinux2014_x86_64.whl (149 kB)\n",
      "Collecting idna<4,>=2.5\n",
      "  Using cached idna-3.10-py3-none-any.whl (70 kB)\n",
      "Collecting webencodings\n",
      "  Using cached webencodings-0.5.1-py2.py3-none-any.whl (11 kB)\n",
      "Collecting tinycss2<1.5,>=1.1.0\n",
      "  Using cached tinycss2-1.4.0-py3-none-any.whl (26 kB)\n",
      "Requirement already satisfied: platformdirs>=2.5 in ./venv/lib/python3.10/site-packages (from jupyter-core>=4.7->nbconvert>=5->dataframe_image) (4.3.7)\n",
      "Requirement already satisfied: jupyter-client>=6.1.12 in ./venv/lib/python3.10/site-packages (from nbclient>=0.5.0->nbconvert>=5->dataframe_image) (8.6.3)\n",
      "Collecting jsonschema>=2.6\n",
      "  Using cached jsonschema-4.23.0-py3-none-any.whl (88 kB)\n",
      "Collecting fastjsonschema>=2.15\n",
      "  Using cached fastjsonschema-2.21.1-py3-none-any.whl (23 kB)\n",
      "Requirement already satisfied: six>=1.5 in ./venv/lib/python3.10/site-packages (from python-dateutil>=2.8.2->pandas>=0.24->dataframe_image) (1.17.0)\n",
      "Collecting jsonschema-specifications>=2023.03.6\n",
      "  Downloading jsonschema_specifications-2025.4.1-py3-none-any.whl (18 kB)\n",
      "Collecting rpds-py>=0.7.1\n",
      "  Using cached rpds_py-0.24.0-cp310-cp310-manylinux_2_17_x86_64.manylinux2014_x86_64.whl (389 kB)\n",
      "Collecting referencing>=0.28.4\n",
      "  Using cached referencing-0.36.2-py3-none-any.whl (26 kB)\n",
      "Requirement already satisfied: pyzmq>=23.0 in ./venv/lib/python3.10/site-packages (from jupyter-client>=6.1.12->nbclient>=0.5.0->nbconvert>=5->dataframe_image) (26.4.0)\n",
      "Requirement already satisfied: tornado>=6.2 in ./venv/lib/python3.10/site-packages (from jupyter-client>=6.1.12->nbclient>=0.5.0->nbconvert>=5->dataframe_image) (6.4.2)\n",
      "Installing collected packages: webencodings, pytz, fastjsonschema, urllib3, tzdata, tinycss2, soupsieve, rpds-py, pyee, propcache, pillow, pandocfilters, numpy, multidict, more-itertools, mistune, markupsafe, lxml, jupyterlab-pygments, idna, greenlet, frozenlist, defusedxml, cssselect, charset-normalizer, certifi, bleach, attrs, async-timeout, aiohappyeyeballs, yarl, requests, referencing, playwright, pandas, jinja2, cssutils, beautifulsoup4, aiosignal, jsonschema-specifications, aiohttp, jsonschema, nbformat, nbclient, nbconvert, dataframe_image\n",
      "Successfully installed aiohappyeyeballs-2.6.1 aiohttp-3.11.18 aiosignal-1.3.2 async-timeout-5.0.1 attrs-25.3.0 beautifulsoup4-4.13.4 bleach-6.2.0 certifi-2025.4.26 charset-normalizer-3.4.2 cssselect-1.3.0 cssutils-2.11.1 dataframe_image-0.2.7 defusedxml-0.7.1 fastjsonschema-2.21.1 frozenlist-1.6.0 greenlet-3.2.1 idna-3.10 jinja2-3.1.6 jsonschema-4.23.0 jsonschema-specifications-2025.4.1 jupyterlab-pygments-0.3.0 lxml-5.4.0 markupsafe-3.0.2 mistune-3.1.3 more-itertools-10.7.0 multidict-6.4.3 nbclient-0.10.2 nbconvert-7.16.6 nbformat-5.10.4 numpy-2.2.5 pandas-2.2.3 pandocfilters-1.5.1 pillow-11.2.1 playwright-1.52.0 propcache-0.3.1 pyee-13.0.0 pytz-2025.2 referencing-0.36.2 requests-2.32.3 rpds-py-0.24.0 soupsieve-2.7 tinycss2-1.4.0 tzdata-2025.2 urllib3-2.4.0 webencodings-0.5.1 yarl-1.20.0\n",
      "Requirement already satisfied: playwright in ./venv/lib/python3.10/site-packages (1.52.0)\n",
      "Requirement already satisfied: greenlet<4.0.0,>=3.1.1 in ./venv/lib/python3.10/site-packages (from playwright) (3.2.1)\n",
      "Requirement already satisfied: pyee<14,>=13 in ./venv/lib/python3.10/site-packages (from playwright) (13.0.0)\n",
      "Requirement already satisfied: typing-extensions in ./venv/lib/python3.10/site-packages (from pyee<14,>=13->playwright) (4.13.2)\n",
      "Downloading Chromium 136.0.7103.25 (playwright build v1169)\u001b[2m from https://cdn.playwright.dev/dbazure/download/playwright/builds/chromium/1169/chromium-linux.zip\u001b[22m\n",
      "\u001b[1G167.7 MiB [                    ] 0% 0.0s\u001b[0K\u001b[1G167.7 MiB [                    ] 0% 24.8s\u001b[0K\u001b[1G167.7 MiB [                    ] 0% 18.3s\u001b[0K\u001b[1G167.7 MiB [                    ] 0% 17.4s\u001b[0K\u001b[1G167.7 MiB [                    ] 0% 16.9s\u001b[0K\u001b[1G167.7 MiB [                    ] 0% 16.6s\u001b[0K\u001b[1G167.7 MiB [                    ] 0% 15.8s\u001b[0K\u001b[1G167.7 MiB [                    ] 0% 15.5s\u001b[0K\u001b[1G167.7 MiB [                    ] 1% 14.5s\u001b[0K\u001b[1G167.7 MiB [                    ] 1% 14.4s\u001b[0K\u001b[1G167.7 MiB [                    ] 1% 14.3s\u001b[0K\u001b[1G167.7 MiB [                    ] 1% 13.8s\u001b[0K\u001b[1G167.7 MiB [                    ] 1% 13.7s\u001b[0K\u001b[1G167.7 MiB [                    ] 1% 13.6s\u001b[0K\u001b[1G167.7 MiB [                    ] 2% 13.5s\u001b[0K\u001b[1G167.7 MiB [                    ] 2% 13.3s\u001b[0K\u001b[1G167.7 MiB [                    ] 2% 13.2s\u001b[0K\u001b[1G167.7 MiB [=                   ] 2% 13.1s\u001b[0K\u001b[1G167.7 MiB [=                   ] 2% 13.0s\u001b[0K\u001b[1G167.7 MiB [=                   ] 3% 13.0s\u001b[0K\u001b[1G167.7 MiB [=                   ] 3% 12.9s\u001b[0K\u001b[1G167.7 MiB [=                   ] 3% 13.0s\u001b[0K\u001b[1G167.7 MiB [=                   ] 3% 12.9s\u001b[0K\u001b[1G167.7 MiB [=                   ] 3% 12.8s\u001b[0K\u001b[1G167.7 MiB [=                   ] 3% 12.7s\u001b[0K\u001b[1G167.7 MiB [=                   ] 4% 12.7s\u001b[0K\u001b[1G167.7 MiB [=                   ] 4% 12.6s\u001b[0K\u001b[1G167.7 MiB [=                   ] 4% 12.5s\u001b[0K\u001b[1G167.7 MiB [=                   ] 4% 12.4s\u001b[0K\u001b[1G167.7 MiB [=                   ] 5% 12.4s\u001b[0K\u001b[1G167.7 MiB [=                   ] 5% 12.3s\u001b[0K\u001b[1G167.7 MiB [=                   ] 5% 12.2s\u001b[0K\u001b[1G167.7 MiB [=                   ] 5% 12.1s\u001b[0K\u001b[1G167.7 MiB [=                   ] 6% 12.1s\u001b[0K\u001b[1G167.7 MiB [=                   ] 6% 12.0s\u001b[0K\u001b[1G167.7 MiB [=                   ] 7% 11.9s\u001b[0K\u001b[1G167.7 MiB [=                   ] 7% 11.8s\u001b[0K\u001b[1G167.7 MiB [==                  ] 7% 11.8s\u001b[0K\u001b[1G167.7 MiB [==                  ] 7% 11.7s\u001b[0K\u001b[1G167.7 MiB [==                  ] 8% 11.7s\u001b[0K\u001b[1G167.7 MiB [==                  ] 8% 11.6s\u001b[0K\u001b[1G167.7 MiB [==                  ] 9% 11.5s\u001b[0K\u001b[1G167.7 MiB [==                  ] 9% 11.6s\u001b[0K\u001b[1G167.7 MiB [==                  ] 9% 11.5s\u001b[0K\u001b[1G167.7 MiB [==                  ] 10% 11.5s\u001b[0K\u001b[1G167.7 MiB [==                  ] 10% 11.4s\u001b[0K\u001b[1G167.7 MiB [==                  ] 10% 11.3s\u001b[0K\u001b[1G167.7 MiB [==                  ] 10% 11.4s\u001b[0K\u001b[1G167.7 MiB [==                  ] 11% 11.3s\u001b[0K\u001b[1G167.7 MiB [==                  ] 11% 11.2s\u001b[0K\u001b[1G167.7 MiB [==                  ] 12% 11.2s\u001b[0K\u001b[1G167.7 MiB [===                 ] 12% 11.1s\u001b[0K\u001b[1G167.7 MiB [===                 ] 13% 11.1s\u001b[0K\u001b[1G167.7 MiB [===                 ] 13% 11.0s\u001b[0K\u001b[1G167.7 MiB [===                 ] 13% 10.9s\u001b[0K\u001b[1G167.7 MiB [===                 ] 14% 10.9s\u001b[0K\u001b[1G167.7 MiB [===                 ] 14% 10.8s\u001b[0K\u001b[1G167.7 MiB [===                 ] 14% 11.1s\u001b[0K\u001b[1G167.7 MiB [===                 ] 15% 11.1s\u001b[0K\u001b[1G167.7 MiB [===                 ] 15% 11.0s\u001b[0K\u001b[1G167.7 MiB [===                 ] 15% 10.9s\u001b[0K\u001b[1G167.7 MiB [===                 ] 16% 10.9s\u001b[0K\u001b[1G167.7 MiB [===                 ] 16% 10.8s\u001b[0K\u001b[1G167.7 MiB [===                 ] 16% 10.9s\u001b[0K\u001b[1G167.7 MiB [===                 ] 17% 10.7s\u001b[0K\u001b[1G167.7 MiB [====                ] 17% 10.7s\u001b[0K\u001b[1G167.7 MiB [====                ] 17% 10.6s\u001b[0K\u001b[1G167.7 MiB [====                ] 18% 10.6s\u001b[0K\u001b[1G167.7 MiB [====                ] 18% 10.5s\u001b[0K\u001b[1G167.7 MiB [====                ] 19% 10.5s\u001b[0K\u001b[1G167.7 MiB [====                ] 19% 10.4s\u001b[0K\u001b[1G167.7 MiB [====                ] 20% 10.4s\u001b[0K\u001b[1G167.7 MiB [====                ] 20% 10.3s\u001b[0K\u001b[1G167.7 MiB [====                ] 20% 10.2s\u001b[0K\u001b[1G167.7 MiB [====                ] 21% 10.2s\u001b[0K\u001b[1G167.7 MiB [====                ] 21% 10.1s\u001b[0K\u001b[1G167.7 MiB [====                ] 22% 10.1s\u001b[0K\u001b[1G167.7 MiB [====                ] 22% 10.0s\u001b[0K\u001b[1G167.7 MiB [====                ] 22% 10.2s\u001b[0K\u001b[1G167.7 MiB [=====               ] 22% 10.2s\u001b[0K\u001b[1G167.7 MiB [=====               ] 22% 10.1s\u001b[0K\u001b[1G167.7 MiB [=====               ] 23% 10.1s\u001b[0K\u001b[1G167.7 MiB [=====               ] 23% 10.0s\u001b[0K\u001b[1G167.7 MiB [=====               ] 24% 10.0s\u001b[0K\u001b[1G167.7 MiB [=====               ] 24% 9.9s\u001b[0K\u001b[1G167.7 MiB [=====               ] 24% 9.8s\u001b[0K\u001b[1G167.7 MiB [=====               ] 25% 9.8s\u001b[0K\u001b[1G167.7 MiB [=====               ] 25% 9.7s\u001b[0K\u001b[1G167.7 MiB [=====               ] 26% 9.7s\u001b[0K\u001b[1G167.7 MiB [=====               ] 26% 9.6s\u001b[0K\u001b[1G167.7 MiB [=====               ] 26% 9.7s\u001b[0K\u001b[1G167.7 MiB [=====               ] 26% 9.8s\u001b[0K\u001b[1G167.7 MiB [=====               ] 27% 9.8s\u001b[0K\u001b[1G167.7 MiB [======              ] 27% 9.8s\u001b[0K\u001b[1G167.7 MiB [======              ] 28% 9.8s\u001b[0K\u001b[1G167.7 MiB [======              ] 28% 9.9s\u001b[0K\u001b[1G167.7 MiB [======              ] 28% 9.8s\u001b[0K\u001b[1G167.7 MiB [======              ] 29% 9.8s\u001b[0K\u001b[1G167.7 MiB [======              ] 29% 9.7s\u001b[0K\u001b[1G167.7 MiB [======              ] 30% 9.7s\u001b[0K\u001b[1G167.7 MiB [======              ] 30% 9.6s\u001b[0K\u001b[1G167.7 MiB [======              ] 31% 9.6s\u001b[0K\u001b[1G167.7 MiB [======              ] 31% 9.5s\u001b[0K\u001b[1G167.7 MiB [======              ] 32% 9.4s\u001b[0K\u001b[1G167.7 MiB [=======             ] 32% 9.4s\u001b[0K\u001b[1G167.7 MiB [=======             ] 32% 9.3s\u001b[0K\u001b[1G167.7 MiB [=======             ] 33% 9.3s\u001b[0K\u001b[1G167.7 MiB [=======             ] 33% 9.2s\u001b[0K\u001b[1G167.7 MiB [=======             ] 34% 9.2s\u001b[0K\u001b[1G167.7 MiB [=======             ] 34% 9.1s\u001b[0K\u001b[1G167.7 MiB [=======             ] 34% 9.0s\u001b[0K\u001b[1G167.7 MiB [=======             ] 35% 9.0s\u001b[0K\u001b[1G167.7 MiB [=======             ] 35% 8.9s\u001b[0K\u001b[1G167.7 MiB [=======             ] 36% 8.9s\u001b[0K\u001b[1G167.7 MiB [=======             ] 36% 8.8s\u001b[0K\u001b[1G167.7 MiB [=======             ] 37% 8.7s\u001b[0K\u001b[1G167.7 MiB [========            ] 37% 8.7s\u001b[0K\u001b[1G167.7 MiB [========            ] 37% 8.6s\u001b[0K\u001b[1G167.7 MiB [========            ] 38% 8.6s\u001b[0K\u001b[1G167.7 MiB [========            ] 38% 8.5s\u001b[0K\u001b[1G167.7 MiB [========            ] 38% 8.4s\u001b[0K\u001b[1G167.7 MiB [========            ] 39% 8.4s\u001b[0K\u001b[1G167.7 MiB [========            ] 39% 8.3s\u001b[0K\u001b[1G167.7 MiB [========            ] 40% 8.3s\u001b[0K\u001b[1G167.7 MiB [========            ] 40% 8.2s\u001b[0K\u001b[1G167.7 MiB [========            ] 40% 8.1s\u001b[0K\u001b[1G167.7 MiB [========            ] 41% 8.1s\u001b[0K\u001b[1G167.7 MiB [========            ] 41% 8.0s\u001b[0K\u001b[1G167.7 MiB [========            ] 42% 8.0s\u001b[0K\u001b[1G167.7 MiB [========            ] 42% 7.9s\u001b[0K\u001b[1G167.7 MiB [=========           ] 42% 7.9s\u001b[0K\u001b[1G167.7 MiB [=========           ] 43% 7.9s\u001b[0K\u001b[1G167.7 MiB [=========           ] 43% 7.8s\u001b[0K\u001b[1G167.7 MiB [=========           ] 43% 7.7s\u001b[0K\u001b[1G167.7 MiB [=========           ] 44% 7.7s\u001b[0K\u001b[1G167.7 MiB [=========           ] 44% 7.6s\u001b[0K\u001b[1G167.7 MiB [=========           ] 45% 7.6s\u001b[0K\u001b[1G167.7 MiB [=========           ] 45% 7.5s\u001b[0K\u001b[1G167.7 MiB [=========           ] 45% 7.4s\u001b[0K\u001b[1G167.7 MiB [=========           ] 46% 7.4s\u001b[0K\u001b[1G167.7 MiB [=========           ] 46% 7.3s\u001b[0K\u001b[1G167.7 MiB [=========           ] 47% 7.3s\u001b[0K\u001b[1G167.7 MiB [=========           ] 47% 7.2s\u001b[0K\u001b[1G167.7 MiB [==========          ] 47% 7.2s\u001b[0K\u001b[1G167.7 MiB [==========          ] 48% 7.1s\u001b[0K\u001b[1G167.7 MiB [==========          ] 48% 7.0s\u001b[0K\u001b[1G167.7 MiB [==========          ] 49% 7.0s\u001b[0K\u001b[1G167.7 MiB [==========          ] 49% 6.9s\u001b[0K\u001b[1G167.7 MiB [==========          ] 49% 6.8s\u001b[0K\u001b[1G167.7 MiB [==========          ] 50% 6.8s\u001b[0K\u001b[1G167.7 MiB [==========          ] 50% 6.7s\u001b[0K\u001b[1G167.7 MiB [==========          ] 51% 6.7s\u001b[0K\u001b[1G167.7 MiB [==========          ] 51% 6.6s\u001b[0K\u001b[1G167.7 MiB [==========          ] 52% 6.5s\u001b[0K\u001b[1G167.7 MiB [===========         ] 52% 6.5s\u001b[0K\u001b[1G167.7 MiB [===========         ] 52% 6.4s\u001b[0K\u001b[1G167.7 MiB [===========         ] 53% 6.4s\u001b[0K\u001b[1G167.7 MiB [===========         ] 53% 6.3s\u001b[0K\u001b[1G167.7 MiB [===========         ] 54% 6.3s\u001b[0K\u001b[1G167.7 MiB [===========         ] 54% 6.2s\u001b[0K\u001b[1G167.7 MiB [===========         ] 54% 6.1s\u001b[0K\u001b[1G167.7 MiB [===========         ] 55% 6.1s\u001b[0K\u001b[1G167.7 MiB [===========         ] 55% 6.0s\u001b[0K\u001b[1G167.7 MiB [===========         ] 56% 6.0s\u001b[0K\u001b[1G167.7 MiB [===========         ] 56% 5.9s\u001b[0K\u001b[1G167.7 MiB [===========         ] 56% 5.8s\u001b[0K\u001b[1G167.7 MiB [===========         ] 57% 5.8s\u001b[0K\u001b[1G167.7 MiB [============        ] 57% 5.7s\u001b[0K\u001b[1G167.7 MiB [============        ] 58% 5.7s\u001b[0K\u001b[1G167.7 MiB [============        ] 58% 5.6s\u001b[0K\u001b[1G167.7 MiB [============        ] 59% 5.6s\u001b[0K\u001b[1G167.7 MiB [============        ] 59% 5.5s\u001b[0K\u001b[1G167.7 MiB [============        ] 59% 5.4s\u001b[0K\u001b[1G167.7 MiB [============        ] 60% 5.4s\u001b[0K\u001b[1G167.7 MiB [============        ] 60% 5.3s\u001b[0K\u001b[1G167.7 MiB [============        ] 61% 5.3s\u001b[0K\u001b[1G167.7 MiB [============        ] 61% 5.2s\u001b[0K\u001b[1G167.7 MiB [============        ] 62% 5.1s\u001b[0K\u001b[1G167.7 MiB [=============       ] 62% 5.1s\u001b[0K\u001b[1G167.7 MiB [=============       ] 62% 5.0s\u001b[0K\u001b[1G167.7 MiB [=============       ] 63% 5.0s\u001b[0K\u001b[1G167.7 MiB [=============       ] 63% 4.9s\u001b[0K\u001b[1G167.7 MiB [=============       ] 64% 4.9s\u001b[0K\u001b[1G167.7 MiB [=============       ] 64% 4.8s\u001b[0K\u001b[1G167.7 MiB [=============       ] 64% 4.7s\u001b[0K\u001b[1G167.7 MiB [=============       ] 65% 4.7s\u001b[0K\u001b[1G167.7 MiB [=============       ] 65% 4.6s\u001b[0K\u001b[1G167.7 MiB [=============       ] 66% 4.6s\u001b[0K\u001b[1G167.7 MiB [=============       ] 66% 4.5s\u001b[0K\u001b[1G167.7 MiB [=============       ] 67% 4.5s\u001b[0K\u001b[1G167.7 MiB [=============       ] 67% 4.4s\u001b[0K\u001b[1G167.7 MiB [==============      ] 67% 4.4s\u001b[0K\u001b[1G167.7 MiB [==============      ] 68% 4.3s\u001b[0K\u001b[1G167.7 MiB [==============      ] 68% 4.2s\u001b[0K\u001b[1G167.7 MiB [==============      ] 69% 4.2s\u001b[0K\u001b[1G167.7 MiB [==============      ] 69% 4.1s\u001b[0K\u001b[1G167.7 MiB [==============      ] 70% 4.1s\u001b[0K\u001b[1G167.7 MiB [==============      ] 70% 4.0s\u001b[0K\u001b[1G167.7 MiB [==============      ] 71% 3.9s\u001b[0K\u001b[1G167.7 MiB [==============      ] 71% 3.8s\u001b[0K\u001b[1G167.7 MiB [==============      ] 72% 3.8s\u001b[0K\u001b[1G167.7 MiB [===============     ] 72% 3.7s\u001b[0K\u001b[1G167.7 MiB [===============     ] 73% 3.7s\u001b[0K\u001b[1G167.7 MiB [===============     ] 73% 3.6s\u001b[0K\u001b[1G167.7 MiB [===============     ] 74% 3.5s\u001b[0K\u001b[1G167.7 MiB [===============     ] 74% 3.4s\u001b[0K\u001b[1G167.7 MiB [===============     ] 75% 3.4s\u001b[0K\u001b[1G167.7 MiB [===============     ] 75% 3.3s\u001b[0K\u001b[1G167.7 MiB [===============     ] 76% 3.3s\u001b[0K\u001b[1G167.7 MiB [===============     ] 76% 3.2s\u001b[0K\u001b[1G167.7 MiB [===============     ] 77% 3.1s\u001b[0K\u001b[1G167.7 MiB [================    ] 77% 3.1s\u001b[0K\u001b[1G167.7 MiB [================    ] 77% 3.0s\u001b[0K\u001b[1G167.7 MiB [================    ] 78% 3.0s\u001b[0K\u001b[1G167.7 MiB [================    ] 78% 2.9s\u001b[0K\u001b[1G167.7 MiB [================    ] 79% 2.9s\u001b[0K\u001b[1G167.7 MiB [================    ] 79% 2.8s\u001b[0K\u001b[1G167.7 MiB [================    ] 80% 2.7s\u001b[0K\u001b[1G167.7 MiB [================    ] 80% 2.6s\u001b[0K\u001b[1G167.7 MiB [================    ] 81% 2.6s\u001b[0K\u001b[1G167.7 MiB [================    ] 81% 2.5s\u001b[0K\u001b[1G167.7 MiB [================    ] 82% 2.5s\u001b[0K\u001b[1G167.7 MiB [================    ] 82% 2.4s\u001b[0K\u001b[1G167.7 MiB [=================   ] 82% 2.4s\u001b[0K\u001b[1G167.7 MiB [=================   ] 82% 2.3s\u001b[0K\u001b[1G167.7 MiB [=================   ] 83% 2.3s\u001b[0K\u001b[1G167.7 MiB [=================   ] 83% 2.2s\u001b[0K\u001b[1G167.7 MiB [=================   ] 84% 2.2s\u001b[0K\u001b[1G167.7 MiB [=================   ] 84% 2.1s\u001b[0K\u001b[1G167.7 MiB [=================   ] 85% 2.1s\u001b[0K\u001b[1G167.7 MiB [=================   ] 85% 2.0s\u001b[0K\u001b[1G167.7 MiB [=================   ] 85% 1.9s\u001b[0K\u001b[1G167.7 MiB [=================   ] 86% 1.9s\u001b[0K\u001b[1G167.7 MiB [=================   ] 86% 1.8s\u001b[0K\u001b[1G167.7 MiB [=================   ] 87% 1.8s\u001b[0K\u001b[1G167.7 MiB [=================   ] 87% 1.7s\u001b[0K\u001b[1G167.7 MiB [==================  ] 87% 1.7s\u001b[0K\u001b[1G167.7 MiB [==================  ] 88% 1.6s\u001b[0K\u001b[1G167.7 MiB [==================  ] 88% 1.5s\u001b[0K\u001b[1G167.7 MiB [==================  ] 89% 1.5s\u001b[0K\u001b[1G167.7 MiB [==================  ] 89% 1.4s\u001b[0K\u001b[1G167.7 MiB [==================  ] 90% 1.4s\u001b[0K\u001b[1G167.7 MiB [==================  ] 90% 1.3s\u001b[0K\u001b[1G167.7 MiB [==================  ] 90% 1.2s\u001b[0K\u001b[1G167.7 MiB [==================  ] 91% 1.2s\u001b[0K\u001b[1G167.7 MiB [==================  ] 91% 1.1s\u001b[0K\u001b[1G167.7 MiB [==================  ] 92% 1.1s\u001b[0K\u001b[1G167.7 MiB [==================  ] 92% 1.0s\u001b[0K\u001b[1G167.7 MiB [=================== ] 92% 1.0s\u001b[0K\u001b[1G167.7 MiB [=================== ] 93% 1.0s\u001b[0K\u001b[1G167.7 MiB [=================== ] 93% 0.9s\u001b[0K\u001b[1G167.7 MiB [=================== ] 93% 0.8s\u001b[0K\u001b[1G167.7 MiB [=================== ] 94% 0.8s\u001b[0K\u001b[1G167.7 MiB [=================== ] 94% 0.7s\u001b[0K\u001b[1G167.7 MiB [=================== ] 95% 0.7s\u001b[0K\u001b[1G167.7 MiB [=================== ] 95% 0.6s\u001b[0K\u001b[1G167.7 MiB [=================== ] 96% 0.5s\u001b[0K\u001b[1G167.7 MiB [=================== ] 96% 0.4s\u001b[0K\u001b[1G167.7 MiB [=================== ] 97% 0.4s\u001b[0K\u001b[1G167.7 MiB [====================] 97% 0.3s\u001b[0K\u001b[1G167.7 MiB [====================] 98% 0.3s\u001b[0K\u001b[1G167.7 MiB [====================] 98% 0.2s\u001b[0K\u001b[1G167.7 MiB [====================] 99% 0.1s\u001b[0K\u001b[1G167.7 MiB [====================] 99% 0.0s\u001b[0K\u001b[1G167.7 MiB [====================] 100% 0.0s\u001b[0K\n",
      "Chromium 136.0.7103.25 (playwright build v1169) downloaded to /home/ibrahim/.cache/ms-playwright/chromium-1169\n",
      "Downloading FFMPEG playwright build v1011\u001b[2m from https://cdn.playwright.dev/dbazure/download/playwright/builds/ffmpeg/1011/ffmpeg-linux.zip\u001b[22m\n",
      "\u001b[1G2.3 MiB [                    ] 0% 0.0s\u001b[0K\u001b[1G2.3 MiB [=                   ] 4% 0.4s\u001b[0K\u001b[1G2.3 MiB [===                 ] 14% 0.2s\u001b[0K\u001b[1G2.3 MiB [=====               ] 23% 0.2s\u001b[0K\u001b[1G2.3 MiB [=======             ] 35% 0.1s\u001b[0K\u001b[1G2.3 MiB [=========           ] 44% 0.1s\u001b[0K\u001b[1G2.3 MiB [===========         ] 55% 0.1s\u001b[0K\u001b[1G2.3 MiB [=============       ] 65% 0.1s\u001b[0K\u001b[1G2.3 MiB [===============     ] 73% 0.1s\u001b[0K\u001b[1G2.3 MiB [==================  ] 89% 0.0s\u001b[0K\u001b[1G2.3 MiB [=================== ] 97% 0.0s\u001b[0K\u001b[1G2.3 MiB [====================] 100% 0.0s\u001b[0K\n",
      "FFMPEG playwright build v1011 downloaded to /home/ibrahim/.cache/ms-playwright/ffmpeg-1011\n",
      "Downloading Chromium Headless Shell 136.0.7103.25 (playwright build v1169)\u001b[2m from https://cdn.playwright.dev/dbazure/download/playwright/builds/chromium/1169/chromium-headless-shell-linux.zip\u001b[22m\n",
      "\u001b[1G101.4 MiB [                    ] 0% 0.0s\u001b[0K\u001b[1G101.4 MiB [                    ] 0% 99.1s\u001b[0K\u001b[1G101.4 MiB [                    ] 0% 139.5s\u001b[0K\u001b[1G101.4 MiB [                    ] 0% 537.6s\u001b[0K\u001b[1G101.4 MiB [                    ] 0% 509.0s\u001b[0K\u001b[1G101.4 MiB [                    ] 0% 456.7s\u001b[0K\u001b[1G101.4 MiB [                    ] 0% 412.2s\u001b[0K\u001b[1G101.4 MiB [                    ] 0% 580.1s\u001b[0K\u001b[1G101.4 MiB [                    ] 0% 536.3s\u001b[0K\u001b[1G101.4 MiB [                    ] 0% 521.1s\u001b[0K\u001b[1G101.4 MiB [                    ] 0% 490.8s\u001b[0K\u001b[1G101.4 MiB [                    ] 0% 463.5s\u001b[0K\u001b[1G101.4 MiB [                    ] 0% 434.4s\u001b[0K\u001b[1G101.4 MiB [                    ] 0% 414.9s\u001b[0K\u001b[1G101.4 MiB [                    ] 0% 394.6s\u001b[0K\u001b[1G101.4 MiB [                    ] 0% 389.9s\u001b[0K\u001b[1G101.4 MiB [                    ] 0% 378.0s\u001b[0K\u001b[1G101.4 MiB [                    ] 0% 368.5s\u001b[0K\u001b[1G101.4 MiB [                    ] 0% 359.8s\u001b[0K\u001b[1G101.4 MiB [                    ] 0% 351.0s\u001b[0K\u001b[1G101.4 MiB [                    ] 0% 338.5s\u001b[0K\u001b[1G101.4 MiB [                    ] 0% 332.2s\u001b[0K\u001b[1G101.4 MiB [                    ] 0% 329.9s\u001b[0K\u001b[1G101.4 MiB [                    ] 0% 323.2s\u001b[0K\u001b[1G101.4 MiB [                    ] 0% 317.8s\u001b[0K\u001b[1G101.4 MiB [                    ] 0% 308.7s\u001b[0K\u001b[1G101.4 MiB [                    ] 0% 303.0s\u001b[0K\u001b[1G101.4 MiB [                    ] 0% 294.1s\u001b[0K\u001b[1G101.4 MiB [                    ] 0% 288.8s\u001b[0K\u001b[1G101.4 MiB [                    ] 0% 280.8s\u001b[0K\u001b[1G101.4 MiB [                    ] 0% 275.2s\u001b[0K\u001b[1G101.4 MiB [                    ] 0% 271.0s\u001b[0K\u001b[1G101.4 MiB [                    ] 0% 263.0s\u001b[0K\u001b[1G101.4 MiB [                    ] 0% 256.0s\u001b[0K\u001b[1G101.4 MiB [                    ] 0% 246.9s\u001b[0K\u001b[1G101.4 MiB [                    ] 0% 240.6s\u001b[0K\u001b[1G101.4 MiB [                    ] 0% 234.8s\u001b[0K\u001b[1G101.4 MiB [                    ] 0% 227.5s\u001b[0K\u001b[1G101.4 MiB [                    ] 0% 222.7s\u001b[0K\u001b[1G101.4 MiB [                    ] 0% 217.9s\u001b[0K\u001b[1G101.4 MiB [                    ] 0% 211.0s\u001b[0K\u001b[1G101.4 MiB [                    ] 0% 206.9s\u001b[0K\u001b[1G101.4 MiB [                    ] 0% 201.5s\u001b[0K\u001b[1G101.4 MiB [                    ] 0% 198.4s\u001b[0K\u001b[1G101.4 MiB [                    ] 0% 192.3s\u001b[0K\u001b[1G101.4 MiB [                    ] 0% 189.1s\u001b[0K\u001b[1G101.4 MiB [                    ] 0% 184.9s\u001b[0K\u001b[1G101.4 MiB [                    ] 0% 179.9s\u001b[0K\u001b[1G101.4 MiB [                    ] 1% 174.6s\u001b[0K\u001b[1G101.4 MiB [                    ] 1% 170.2s\u001b[0K\u001b[1G101.4 MiB [                    ] 1% 166.3s\u001b[0K\u001b[1G101.4 MiB [                    ] 1% 163.0s\u001b[0K\u001b[1G101.4 MiB [                    ] 1% 159.0s\u001b[0K\u001b[1G101.4 MiB [                    ] 1% 155.5s\u001b[0K\u001b[1G101.4 MiB [                    ] 1% 152.1s\u001b[0K\u001b[1G101.4 MiB [                    ] 1% 148.3s\u001b[0K\u001b[1G101.4 MiB [                    ] 1% 143.8s\u001b[0K\u001b[1G101.4 MiB [                    ] 1% 139.6s\u001b[0K\u001b[1G101.4 MiB [                    ] 1% 136.9s\u001b[0K\u001b[1G101.4 MiB [                    ] 1% 132.4s\u001b[0K\u001b[1G101.4 MiB [                    ] 1% 128.5s\u001b[0K\u001b[1G101.4 MiB [                    ] 1% 125.1s\u001b[0K\u001b[1G101.4 MiB [                    ] 1% 120.4s\u001b[0K\u001b[1G101.4 MiB [                    ] 1% 114.9s\u001b[0K\u001b[1G101.4 MiB [                    ] 1% 110.4s\u001b[0K\u001b[1G101.4 MiB [                    ] 1% 106.0s\u001b[0K\u001b[1G101.4 MiB [                    ] 2% 102.3s\u001b[0K\u001b[1G101.4 MiB [                    ] 2% 98.5s\u001b[0K\u001b[1G101.4 MiB [                    ] 2% 94.7s\u001b[0K\u001b[1G101.4 MiB [                    ] 2% 92.9s\u001b[0K\u001b[1G101.4 MiB [                    ] 2% 88.5s\u001b[0K\u001b[1G101.4 MiB [=                   ] 2% 84.3s\u001b[0K\u001b[1G101.4 MiB [=                   ] 2% 81.0s\u001b[0K\u001b[1G101.4 MiB [=                   ] 2% 77.1s\u001b[0K\u001b[1G101.4 MiB [=                   ] 2% 73.5s\u001b[0K\u001b[1G101.4 MiB [=                   ] 3% 70.8s\u001b[0K\u001b[1G101.4 MiB [=                   ] 3% 67.0s\u001b[0K\u001b[1G101.4 MiB [=                   ] 3% 63.5s\u001b[0K\u001b[1G101.4 MiB [=                   ] 3% 60.1s\u001b[0K\u001b[1G101.4 MiB [=                   ] 3% 57.5s\u001b[0K\u001b[1G101.4 MiB [=                   ] 4% 55.0s\u001b[0K\u001b[1G101.4 MiB [=                   ] 4% 54.0s\u001b[0K\u001b[1G101.4 MiB [=                   ] 4% 52.2s\u001b[0K\u001b[1G101.4 MiB [=                   ] 4% 50.7s\u001b[0K\u001b[1G101.4 MiB [=                   ] 4% 49.2s\u001b[0K\u001b[1G101.4 MiB [=                   ] 4% 47.7s\u001b[0K\u001b[1G101.4 MiB [=                   ] 5% 46.4s\u001b[0K\u001b[1G101.4 MiB [=                   ] 5% 45.0s\u001b[0K\u001b[1G101.4 MiB [=                   ] 5% 43.7s\u001b[0K\u001b[1G101.4 MiB [=                   ] 5% 42.3s\u001b[0K\u001b[1G101.4 MiB [=                   ] 5% 40.9s\u001b[0K\u001b[1G101.4 MiB [=                   ] 5% 39.7s\u001b[0K\u001b[1G101.4 MiB [=                   ] 6% 38.6s\u001b[0K\u001b[1G101.4 MiB [=                   ] 6% 37.4s\u001b[0K\u001b[1G101.4 MiB [=                   ] 6% 36.4s\u001b[0K\u001b[1G101.4 MiB [=                   ] 6% 35.2s\u001b[0K\u001b[1G101.4 MiB [=                   ] 7% 34.8s\u001b[0K\u001b[1G101.4 MiB [=                   ] 7% 33.9s\u001b[0K\u001b[1G101.4 MiB [=                   ] 7% 33.0s\u001b[0K\u001b[1G101.4 MiB [==                  ] 7% 32.2s\u001b[0K\u001b[1G101.4 MiB [==                  ] 7% 31.2s\u001b[0K\u001b[1G101.4 MiB [==                  ] 8% 30.5s\u001b[0K\u001b[1G101.4 MiB [==                  ] 8% 29.9s\u001b[0K\u001b[1G101.4 MiB [==                  ] 8% 30.1s\u001b[0K\u001b[1G101.4 MiB [==                  ] 8% 29.4s\u001b[0K\u001b[1G101.4 MiB [==                  ] 8% 28.8s\u001b[0K\u001b[1G101.4 MiB [==                  ] 9% 28.1s\u001b[0K\u001b[1G101.4 MiB [==                  ] 9% 27.5s\u001b[0K\u001b[1G101.4 MiB [==                  ] 9% 26.9s\u001b[0K\u001b[1G101.4 MiB [==                  ] 9% 26.5s\u001b[0K\u001b[1G101.4 MiB [==                  ] 9% 26.9s\u001b[0K\u001b[1G101.4 MiB [==                  ] 10% 26.4s\u001b[0K\u001b[1G101.4 MiB [==                  ] 10% 25.9s\u001b[0K\u001b[1G101.4 MiB [==                  ] 10% 25.3s\u001b[0K\u001b[1G101.4 MiB [==                  ] 10% 25.0s\u001b[0K\u001b[1G101.4 MiB [==                  ] 10% 24.5s\u001b[0K\u001b[1G101.4 MiB [==                  ] 11% 24.1s\u001b[0K\u001b[1G101.4 MiB [==                  ] 11% 24.3s\u001b[0K\u001b[1G101.4 MiB [==                  ] 11% 23.8s\u001b[0K\u001b[1G101.4 MiB [==                  ] 11% 23.5s\u001b[0K\u001b[1G101.4 MiB [==                  ] 11% 23.3s\u001b[0K\u001b[1G101.4 MiB [==                  ] 12% 22.6s\u001b[0K\u001b[1G101.4 MiB [===                 ] 12% 22.2s\u001b[0K\u001b[1G101.4 MiB [===                 ] 12% 22.0s\u001b[0K\u001b[1G101.4 MiB [===                 ] 12% 22.2s\u001b[0K\u001b[1G101.4 MiB [===                 ] 12% 22.3s\u001b[0K\u001b[1G101.4 MiB [===                 ] 13% 22.0s\u001b[0K\u001b[1G101.4 MiB [===                 ] 13% 21.7s\u001b[0K\u001b[1G101.4 MiB [===                 ] 13% 21.3s\u001b[0K\u001b[1G101.4 MiB [===                 ] 13% 21.0s\u001b[0K\u001b[1G101.4 MiB [===                 ] 13% 20.7s\u001b[0K\u001b[1G101.4 MiB [===                 ] 14% 21.1s\u001b[0K\u001b[1G101.4 MiB [===                 ] 14% 20.7s\u001b[0K\u001b[1G101.4 MiB [===                 ] 14% 20.5s\u001b[0K\u001b[1G101.4 MiB [===                 ] 14% 20.3s\u001b[0K\u001b[1G101.4 MiB [===                 ] 14% 20.0s\u001b[0K\u001b[1G101.4 MiB [===                 ] 15% 19.8s\u001b[0K\u001b[1G101.4 MiB [===                 ] 15% 19.5s\u001b[0K\u001b[1G101.4 MiB [===                 ] 15% 19.9s\u001b[0K\u001b[1G101.4 MiB [===                 ] 15% 19.8s\u001b[0K\u001b[1G101.4 MiB [===                 ] 15% 19.6s\u001b[0K\u001b[1G101.4 MiB [===                 ] 16% 19.3s\u001b[0K\u001b[1G101.4 MiB [===                 ] 16% 19.1s\u001b[0K\u001b[1G101.4 MiB [===                 ] 16% 18.9s\u001b[0K\u001b[1G101.4 MiB [===                 ] 16% 18.8s\u001b[0K\u001b[1G101.4 MiB [===                 ] 16% 18.6s\u001b[0K\u001b[1G101.4 MiB [===                 ] 16% 18.8s\u001b[0K\u001b[1G101.4 MiB [===                 ] 17% 18.6s\u001b[0K\u001b[1G101.4 MiB [===                 ] 17% 18.4s\u001b[0K\u001b[1G101.4 MiB [====                ] 17% 18.2s\u001b[0K\u001b[1G101.4 MiB [====                ] 17% 18.0s\u001b[0K\u001b[1G101.4 MiB [====                ] 18% 17.8s\u001b[0K\u001b[1G101.4 MiB [====                ] 18% 18.0s\u001b[0K\u001b[1G101.4 MiB [====                ] 18% 17.8s\u001b[0K\u001b[1G101.4 MiB [====                ] 18% 17.6s\u001b[0K\u001b[1G101.4 MiB [====                ] 19% 17.4s\u001b[0K\u001b[1G101.4 MiB [====                ] 19% 17.2s\u001b[0K\u001b[1G101.4 MiB [====                ] 19% 17.0s\u001b[0K\u001b[1G101.4 MiB [====                ] 19% 17.2s\u001b[0K\u001b[1G101.4 MiB [====                ] 19% 17.0s\u001b[0K\u001b[1G101.4 MiB [====                ] 20% 16.8s\u001b[0K\u001b[1G101.4 MiB [====                ] 20% 16.7s\u001b[0K\u001b[1G101.4 MiB [====                ] 20% 16.5s\u001b[0K\u001b[1G101.4 MiB [====                ] 20% 16.4s\u001b[0K\u001b[1G101.4 MiB [====                ] 20% 16.6s\u001b[0K\u001b[1G101.4 MiB [====                ] 21% 16.4s\u001b[0K\u001b[1G101.4 MiB [====                ] 21% 16.2s\u001b[0K\u001b[1G101.4 MiB [====                ] 21% 16.1s\u001b[0K\u001b[1G101.4 MiB [====                ] 21% 15.9s\u001b[0K\u001b[1G101.4 MiB [====                ] 22% 15.8s\u001b[0K\u001b[1G101.4 MiB [====                ] 22% 15.6s\u001b[0K\u001b[1G101.4 MiB [====                ] 22% 16.0s\u001b[0K\u001b[1G101.4 MiB [=====               ] 22% 15.8s\u001b[0K\u001b[1G101.4 MiB [=====               ] 22% 15.6s\u001b[0K\u001b[1G101.4 MiB [=====               ] 23% 15.5s\u001b[0K\u001b[1G101.4 MiB [=====               ] 23% 15.3s\u001b[0K\u001b[1G101.4 MiB [=====               ] 23% 15.2s\u001b[0K\u001b[1G101.4 MiB [=====               ] 23% 15.1s\u001b[0K\u001b[1G101.4 MiB [=====               ] 23% 15.3s\u001b[0K\u001b[1G101.4 MiB [=====               ] 24% 15.2s\u001b[0K\u001b[1G101.4 MiB [=====               ] 24% 15.0s\u001b[0K\u001b[1G101.4 MiB [=====               ] 24% 14.9s\u001b[0K\u001b[1G101.4 MiB [=====               ] 24% 14.7s\u001b[0K\u001b[1G101.4 MiB [=====               ] 25% 14.6s\u001b[0K\u001b[1G101.4 MiB [=====               ] 25% 14.8s\u001b[0K\u001b[1G101.4 MiB [=====               ] 25% 14.6s\u001b[0K\u001b[1G101.4 MiB [=====               ] 25% 14.5s\u001b[0K\u001b[1G101.4 MiB [=====               ] 26% 14.4s\u001b[0K\u001b[1G101.4 MiB [=====               ] 26% 14.3s\u001b[0K\u001b[1G101.4 MiB [=====               ] 26% 14.1s\u001b[0K\u001b[1G101.4 MiB [=====               ] 26% 14.2s\u001b[0K\u001b[1G101.4 MiB [=====               ] 26% 15.1s\u001b[0K\u001b[1G101.4 MiB [=====               ] 27% 15.0s\u001b[0K\u001b[1G101.4 MiB [=====               ] 27% 14.8s\u001b[0K\u001b[1G101.4 MiB [======              ] 28% 13.8s\u001b[0K\u001b[1G101.4 MiB [======              ] 29% 14.0s\u001b[0K\u001b[1G101.4 MiB [======              ] 30% 13.8s\u001b[0K\u001b[1G101.4 MiB [======              ] 30% 13.7s\u001b[0K\u001b[1G101.4 MiB [======              ] 30% 13.6s\u001b[0K\u001b[1G101.4 MiB [======              ] 30% 13.5s\u001b[0K\u001b[1G101.4 MiB [======              ] 30% 13.4s\u001b[0K\u001b[1G101.4 MiB [======              ] 31% 13.3s\u001b[0K\u001b[1G101.4 MiB [======              ] 31% 13.7s\u001b[0K\u001b[1G101.4 MiB [======              ] 31% 13.6s\u001b[0K\u001b[1G101.4 MiB [======              ] 31% 13.5s\u001b[0K\u001b[1G101.4 MiB [======              ] 32% 13.4s\u001b[0K\u001b[1G101.4 MiB [======              ] 32% 13.2s\u001b[0K\u001b[1G101.4 MiB [======              ] 32% 13.1s\u001b[0K\u001b[1G101.4 MiB [=======             ] 32% 13.1s\u001b[0K\u001b[1G101.4 MiB [=======             ] 32% 13.0s\u001b[0K\u001b[1G101.4 MiB [=======             ] 33% 12.9s\u001b[0K\u001b[1G101.4 MiB [=======             ] 33% 12.8s\u001b[0K\u001b[1G101.4 MiB [=======             ] 33% 12.7s\u001b[0K\u001b[1G101.4 MiB [=======             ] 33% 12.6s\u001b[0K\u001b[1G101.4 MiB [=======             ] 34% 12.5s\u001b[0K\u001b[1G101.4 MiB [=======             ] 34% 12.4s\u001b[0K\u001b[1G101.4 MiB [=======             ] 34% 13.4s\u001b[0K\u001b[1G101.4 MiB [=======             ] 34% 13.3s\u001b[0K\u001b[1G101.4 MiB [=======             ] 34% 13.2s\u001b[0K\u001b[1G101.4 MiB [=======             ] 35% 12.9s\u001b[0K\u001b[1G101.4 MiB [=======             ] 35% 12.7s\u001b[0K\u001b[1G101.4 MiB [=======             ] 36% 12.5s\u001b[0K\u001b[1G101.4 MiB [=======             ] 37% 12.4s\u001b[0K\u001b[1G101.4 MiB [=======             ] 37% 12.3s\u001b[0K\u001b[1G101.4 MiB [========            ] 37% 12.2s\u001b[0K\u001b[1G101.4 MiB [========            ] 37% 12.1s\u001b[0K\u001b[1G101.4 MiB [========            ] 38% 12.0s\u001b[0K\u001b[1G101.4 MiB [========            ] 38% 11.9s\u001b[0K\u001b[1G101.4 MiB [========            ] 38% 11.8s\u001b[0K\u001b[1G101.4 MiB [========            ] 39% 11.7s\u001b[0K\u001b[1G101.4 MiB [========            ] 39% 11.6s\u001b[0K\u001b[1G101.4 MiB [========            ] 39% 11.7s\u001b[0K\u001b[1G101.4 MiB [========            ] 39% 11.6s\u001b[0K\u001b[1G101.4 MiB [========            ] 39% 11.5s\u001b[0K\u001b[1G101.4 MiB [========            ] 40% 11.5s\u001b[0K\u001b[1G101.4 MiB [========            ] 40% 11.4s\u001b[0K\u001b[1G101.4 MiB [========            ] 40% 11.3s\u001b[0K\u001b[1G101.4 MiB [========            ] 40% 11.2s\u001b[0K\u001b[1G101.4 MiB [========            ] 41% 11.2s\u001b[0K\u001b[1G101.4 MiB [========            ] 41% 11.1s\u001b[0K\u001b[1G101.4 MiB [========            ] 41% 11.0s\u001b[0K\u001b[1G101.4 MiB [========            ] 41% 10.9s\u001b[0K\u001b[1G101.4 MiB [========            ] 42% 10.9s\u001b[0K\u001b[1G101.4 MiB [========            ] 42% 10.8s\u001b[0K\u001b[1G101.4 MiB [========            ] 42% 10.9s\u001b[0K\u001b[1G101.4 MiB [=========           ] 42% 10.8s\u001b[0K\u001b[1G101.4 MiB [=========           ] 42% 11.3s\u001b[0K\u001b[1G101.4 MiB [=========           ] 42% 11.8s\u001b[0K\u001b[1G101.4 MiB [=========           ] 45% 10.9s\u001b[0K\u001b[1G101.4 MiB [=========           ] 45% 10.8s\u001b[0K\u001b[1G101.4 MiB [=========           ] 46% 10.7s\u001b[0K\u001b[1G101.4 MiB [=========           ] 46% 10.6s\u001b[0K\u001b[1G101.4 MiB [=========           ] 46% 10.5s\u001b[0K\u001b[1G101.4 MiB [=========           ] 47% 10.4s\u001b[0K\u001b[1G101.4 MiB [=========           ] 47% 10.3s\u001b[0K\u001b[1G101.4 MiB [=========           ] 47% 10.2s\u001b[0K\u001b[1G101.4 MiB [==========          ] 47% 10.4s\u001b[0K\u001b[1G101.4 MiB [==========          ] 47% 10.3s\u001b[0K\u001b[1G101.4 MiB [==========          ] 48% 10.7s\u001b[0K\u001b[1G101.4 MiB [==========          ] 48% 10.6s\u001b[0K\u001b[1G101.4 MiB [==========          ] 48% 10.5s\u001b[0K\u001b[1G101.4 MiB [==========          ] 49% 10.3s\u001b[0K\u001b[1G101.4 MiB [==========          ] 49% 10.1s\u001b[0K\u001b[1G101.4 MiB [==========          ] 50% 10.0s\u001b[0K\u001b[1G101.4 MiB [==========          ] 50% 9.9s\u001b[0K\u001b[1G101.4 MiB [==========          ] 50% 10.0s\u001b[0K\u001b[1G101.4 MiB [==========          ] 50% 9.9s\u001b[0K\u001b[1G101.4 MiB [==========          ] 51% 9.8s\u001b[0K\u001b[1G101.4 MiB [==========          ] 51% 9.7s\u001b[0K\u001b[1G101.4 MiB [==========          ] 51% 9.6s\u001b[0K\u001b[1G101.4 MiB [==========          ] 52% 9.5s\u001b[0K\u001b[1G101.4 MiB [==========          ] 52% 9.4s\u001b[0K\u001b[1G101.4 MiB [===========         ] 52% 9.4s\u001b[0K\u001b[1G101.4 MiB [===========         ] 52% 9.3s\u001b[0K\u001b[1G101.4 MiB [===========         ] 53% 9.3s\u001b[0K\u001b[1G101.4 MiB [===========         ] 53% 9.2s\u001b[0K\u001b[1G101.4 MiB [===========         ] 53% 9.1s\u001b[0K\u001b[1G101.4 MiB [===========         ] 54% 9.1s\u001b[0K\u001b[1G101.4 MiB [===========         ] 54% 9.0s\u001b[0K\u001b[1G101.4 MiB [===========         ] 54% 8.9s\u001b[0K\u001b[1G101.4 MiB [===========         ] 55% 8.8s\u001b[0K\u001b[1G101.4 MiB [===========         ] 55% 8.7s\u001b[0K\u001b[1G101.4 MiB [===========         ] 55% 8.6s\u001b[0K\u001b[1G101.4 MiB [===========         ] 56% 8.6s\u001b[0K\u001b[1G101.4 MiB [===========         ] 56% 8.5s\u001b[0K\u001b[1G101.4 MiB [===========         ] 56% 8.7s\u001b[0K\u001b[1G101.4 MiB [===========         ] 57% 8.7s\u001b[0K\u001b[1G101.4 MiB [===========         ] 57% 8.6s\u001b[0K\u001b[1G101.4 MiB [============        ] 57% 8.5s\u001b[0K\u001b[1G101.4 MiB [============        ] 58% 8.4s\u001b[0K\u001b[1G101.4 MiB [============        ] 58% 8.3s\u001b[0K\u001b[1G101.4 MiB [============        ] 58% 8.2s\u001b[0K\u001b[1G101.4 MiB [============        ] 59% 8.1s\u001b[0K\u001b[1G101.4 MiB [============        ] 59% 8.0s\u001b[0K\u001b[1G101.4 MiB [============        ] 60% 7.9s\u001b[0K\u001b[1G101.4 MiB [============        ] 60% 7.8s\u001b[0K\u001b[1G101.4 MiB [============        ] 60% 7.7s\u001b[0K\u001b[1G101.4 MiB [============        ] 61% 7.7s\u001b[0K\u001b[1G101.4 MiB [============        ] 61% 7.6s\u001b[0K\u001b[1G101.4 MiB [============        ] 61% 7.5s\u001b[0K\u001b[1G101.4 MiB [============        ] 62% 7.5s\u001b[0K\u001b[1G101.4 MiB [============        ] 62% 7.4s\u001b[0K\u001b[1G101.4 MiB [=============       ] 62% 7.4s\u001b[0K\u001b[1G101.4 MiB [=============       ] 62% 7.3s\u001b[0K\u001b[1G101.4 MiB [=============       ] 63% 7.3s\u001b[0K\u001b[1G101.4 MiB [=============       ] 63% 7.2s\u001b[0K\u001b[1G101.4 MiB [=============       ] 63% 7.1s\u001b[0K\u001b[1G101.4 MiB [=============       ] 64% 7.0s\u001b[0K\u001b[1G101.4 MiB [=============       ] 64% 6.9s\u001b[0K\u001b[1G101.4 MiB [=============       ] 64% 7.1s\u001b[0K\u001b[1G101.4 MiB [=============       ] 64% 7.2s\u001b[0K\u001b[1G101.4 MiB [=============       ] 65% 7.0s\u001b[0K\u001b[1G101.4 MiB [=============       ] 65% 6.9s\u001b[0K\u001b[1G101.4 MiB [=============       ] 66% 6.8s\u001b[0K\u001b[1G101.4 MiB [=============       ] 66% 6.7s\u001b[0K\u001b[1G101.4 MiB [=============       ] 66% 6.6s\u001b[0K\u001b[1G101.4 MiB [=============       ] 67% 6.6s\u001b[0K\u001b[1G101.4 MiB [=============       ] 67% 6.5s\u001b[0K\u001b[1G101.4 MiB [==============      ] 67% 6.5s\u001b[0K\u001b[1G101.4 MiB [==============      ] 67% 6.4s\u001b[0K\u001b[1G101.4 MiB [==============      ] 68% 6.4s\u001b[0K\u001b[1G101.4 MiB [==============      ] 68% 6.3s\u001b[0K\u001b[1G101.4 MiB [==============      ] 68% 6.2s\u001b[0K\u001b[1G101.4 MiB [==============      ] 69% 6.2s\u001b[0K\u001b[1G101.4 MiB [==============      ] 69% 6.1s\u001b[0K\u001b[1G101.4 MiB [==============      ] 69% 6.0s\u001b[0K\u001b[1G101.4 MiB [==============      ] 70% 5.9s\u001b[0K\u001b[1G101.4 MiB [==============      ] 70% 5.8s\u001b[0K\u001b[1G101.4 MiB [==============      ] 71% 5.7s\u001b[0K\u001b[1G101.4 MiB [==============      ] 71% 5.6s\u001b[0K\u001b[1G101.4 MiB [==============      ] 72% 5.5s\u001b[0K\u001b[1G101.4 MiB [==============      ] 72% 5.6s\u001b[0K\u001b[1G101.4 MiB [===============     ] 72% 5.6s\u001b[0K\u001b[1G101.4 MiB [===============     ] 72% 5.5s\u001b[0K\u001b[1G101.4 MiB [===============     ] 73% 5.4s\u001b[0K\u001b[1G101.4 MiB [===============     ] 74% 5.1s\u001b[0K\u001b[1G101.4 MiB [===============     ] 75% 5.0s\u001b[0K\u001b[1G101.4 MiB [===============     ] 75% 4.9s\u001b[0K\u001b[1G101.4 MiB [===============     ] 75% 4.8s\u001b[0K\u001b[1G101.4 MiB [===============     ] 76% 4.8s\u001b[0K\u001b[1G101.4 MiB [===============     ] 76% 4.7s\u001b[0K\u001b[1G101.4 MiB [===============     ] 76% 4.6s\u001b[0K\u001b[1G101.4 MiB [===============     ] 77% 4.6s\u001b[0K\u001b[1G101.4 MiB [===============     ] 77% 4.5s\u001b[0K\u001b[1G101.4 MiB [================    ] 77% 4.4s\u001b[0K\u001b[1G101.4 MiB [================    ] 78% 4.3s\u001b[0K\u001b[1G101.4 MiB [================    ] 78% 4.2s\u001b[0K\u001b[1G101.4 MiB [================    ] 79% 4.2s\u001b[0K\u001b[1G101.4 MiB [================    ] 79% 4.1s\u001b[0K\u001b[1G101.4 MiB [================    ] 80% 4.0s\u001b[0K\u001b[1G101.4 MiB [================    ] 80% 3.9s\u001b[0K\u001b[1G101.4 MiB [================    ] 80% 3.8s\u001b[0K\u001b[1G101.4 MiB [================    ] 81% 3.8s\u001b[0K\u001b[1G101.4 MiB [================    ] 81% 3.7s\u001b[0K\u001b[1G101.4 MiB [================    ] 81% 3.6s\u001b[0K\u001b[1G101.4 MiB [================    ] 82% 3.6s\u001b[0K\u001b[1G101.4 MiB [================    ] 82% 3.5s\u001b[0K\u001b[1G101.4 MiB [=================   ] 82% 3.5s\u001b[0K\u001b[1G101.4 MiB [=================   ] 82% 3.4s\u001b[0K\u001b[1G101.4 MiB [=================   ] 83% 3.4s\u001b[0K\u001b[1G101.4 MiB [=================   ] 83% 3.3s\u001b[0K\u001b[1G101.4 MiB [=================   ] 83% 3.2s\u001b[0K\u001b[1G101.4 MiB [=================   ] 84% 3.2s\u001b[0K\u001b[1G101.4 MiB [=================   ] 84% 3.1s\u001b[0K\u001b[1G101.4 MiB [=================   ] 84% 3.0s\u001b[0K\u001b[1G101.4 MiB [=================   ] 85% 3.0s\u001b[0K\u001b[1G101.4 MiB [=================   ] 85% 2.9s\u001b[0K\u001b[1G101.4 MiB [=================   ] 85% 2.8s\u001b[0K\u001b[1G101.4 MiB [=================   ] 86% 2.8s\u001b[0K\u001b[1G101.4 MiB [=================   ] 86% 2.7s\u001b[0K\u001b[1G101.4 MiB [=================   ] 86% 2.6s\u001b[0K\u001b[1G101.4 MiB [=================   ] 86% 2.7s\u001b[0K\u001b[1G101.4 MiB [=================   ] 86% 2.6s\u001b[0K\u001b[1G101.4 MiB [=================   ] 87% 2.6s\u001b[0K\u001b[1G101.4 MiB [==================  ] 87% 2.5s\u001b[0K\u001b[1G101.4 MiB [==================  ] 87% 2.4s\u001b[0K\u001b[1G101.4 MiB [==================  ] 88% 2.4s\u001b[0K\u001b[1G101.4 MiB [==================  ] 88% 2.3s\u001b[0K\u001b[1G101.4 MiB [==================  ] 88% 2.2s\u001b[0K\u001b[1G101.4 MiB [==================  ] 89% 2.1s\u001b[0K\u001b[1G101.4 MiB [==================  ] 89% 2.0s\u001b[0K\u001b[1G101.4 MiB [==================  ] 90% 2.0s\u001b[0K\u001b[1G101.4 MiB [==================  ] 90% 1.9s\u001b[0K\u001b[1G101.4 MiB [==================  ] 90% 1.8s\u001b[0K\u001b[1G101.4 MiB [==================  ] 91% 1.8s\u001b[0K\u001b[1G101.4 MiB [==================  ] 91% 1.7s\u001b[0K\u001b[1G101.4 MiB [==================  ] 91% 1.6s\u001b[0K\u001b[1G101.4 MiB [==================  ] 92% 1.6s\u001b[0K\u001b[1G101.4 MiB [==================  ] 92% 1.5s\u001b[0K\u001b[1G101.4 MiB [=================== ] 92% 1.5s\u001b[0K\u001b[1G101.4 MiB [=================== ] 92% 1.4s\u001b[0K\u001b[1G101.4 MiB [=================== ] 93% 1.4s\u001b[0K\u001b[1G101.4 MiB [=================== ] 93% 1.3s\u001b[0K\u001b[1G101.4 MiB [=================== ] 93% 1.4s\u001b[0K\u001b[1G101.4 MiB [=================== ] 93% 1.3s\u001b[0K\u001b[1G101.4 MiB [=================== ] 93% 1.2s\u001b[0K\u001b[1G101.4 MiB [=================== ] 94% 1.2s\u001b[0K\u001b[1G101.4 MiB [=================== ] 94% 1.1s\u001b[0K\u001b[1G101.4 MiB [=================== ] 94% 1.0s\u001b[0K\u001b[1G101.4 MiB [=================== ] 95% 1.0s\u001b[0K\u001b[1G101.4 MiB [=================== ] 95% 0.9s\u001b[0K\u001b[1G101.4 MiB [=================== ] 96% 0.8s\u001b[0K\u001b[1G101.4 MiB [=================== ] 96% 0.7s\u001b[0K\u001b[1G101.4 MiB [=================== ] 96% 0.6s\u001b[0K\u001b[1G101.4 MiB [=================== ] 97% 0.6s\u001b[0K\u001b[1G101.4 MiB [=================== ] 97% 0.5s\u001b[0K\u001b[1G101.4 MiB [====================] 97% 0.5s\u001b[0K\u001b[1G101.4 MiB [====================] 97% 0.4s\u001b[0K\u001b[1G101.4 MiB [====================] 98% 0.4s\u001b[0K\u001b[1G101.4 MiB [====================] 98% 0.3s\u001b[0K\u001b[1G101.4 MiB [====================] 98% 0.2s\u001b[0K\u001b[1G101.4 MiB [====================] 99% 0.2s\u001b[0K\u001b[1G101.4 MiB [====================] 99% 0.1s\u001b[0K\u001b[1G101.4 MiB [====================] 99% 0.0s\u001b[0K\u001b[1G101.4 MiB [====================] 100% 0.0s\u001b[0K\n",
      "Chromium Headless Shell 136.0.7103.25 (playwright build v1169) downloaded to /home/ibrahim/.cache/ms-playwright/chromium_headless_shell-1169\n"
     ]
    }
   ],
   "source": [
    "!pip install dataframe_image\n",
    "!pip install playwright\n",
    "!playwright install chromium"
   ]
  },
  {
   "cell_type": "code",
   "execution_count": 2,
   "id": "2ec543ce",
   "metadata": {},
   "outputs": [],
   "source": [
    "import pandas as pd\n",
    "import re\n",
    "import dataframe_image as dfi\n",
    "import asyncio\n"
   ]
  },
  {
   "cell_type": "code",
   "execution_count": 3,
   "metadata": {},
   "outputs": [],
   "source": [
    "async def export_df_head_async(df, fname):\n",
    "    await asyncio.to_thread(dfi.export, df.head(), fname)\n",
    "    print(\"done\")"
   ]
  },
  {
   "cell_type": "code",
   "execution_count": 4,
   "id": "08c00e77",
   "metadata": {},
   "outputs": [
    {
     "name": "stdout",
     "output_type": "stream",
     "text": [
      "done\n"
     ]
    }
   ],
   "source": [
    "df = pd.read_csv(\"./data/in/zillow_home_value_index.csv\")\n",
    "await export_df_head_async(df[[\"RegionID\", \"RegionName\", \"StateName\", *df.columns[6:9]]].head(), \"./images/zhvi.png\")"
   ]
  },
  {
   "cell_type": "code",
   "execution_count": 5,
   "id": "2ea12722",
   "metadata": {},
   "outputs": [
    {
     "name": "stdout",
     "output_type": "stream",
     "text": [
      "done\n"
     ]
    }
   ],
   "source": [
    "df = pd.read_csv(\"./data/in/zillow_affordability.csv\")\n",
    "await export_df_head_async(df[[\"RegionID\", \"RegionName\", \"StateName\", *df.columns[6:9]]].head(), \"./images/zaff.png\")"
   ]
  },
  {
   "cell_type": "code",
   "execution_count": 6,
   "id": "7b6cdf0e",
   "metadata": {},
   "outputs": [
    {
     "name": "stdout",
     "output_type": "stream",
     "text": [
      "done\n"
     ]
    }
   ],
   "source": [
    "df = pd.read_csv(\"./data/in/zillow_market_heat.csv\")\n",
    "await export_df_head_async(df[[\"RegionID\", \"RegionName\", \"StateName\", *df.columns[6:9]]].head(), \"./images/zmah.png\")"
   ]
  },
  {
   "cell_type": "code",
   "execution_count": 7,
   "metadata": {},
   "outputs": [
    {
     "name": "stdout",
     "output_type": "stream",
     "text": [
      "done\n"
     ]
    }
   ],
   "source": [
    "df = pd.read_csv(\"./data/out/zillow_market_2018+.csv\")\n",
    "await export_df_head_async(df.head(), \"./images/zall.png\")"
   ]
  },
  {
   "cell_type": "code",
   "execution_count": 8,
   "metadata": {},
   "outputs": [
    {
     "name": "stdout",
     "output_type": "stream",
     "text": [
      "done\n"
     ]
    }
   ],
   "source": [
    "df = pd.read_csv(\"./data/out/data.gov_personal_income.csv\")\n",
    "await export_df_head_async(df.head(), \"./images/demo.png\")"
   ]
  },
  {
   "cell_type": "code",
   "execution_count": 26,
   "metadata": {},
   "outputs": [],
   "source": [
    "import numpy as np\n",
    "def reorder_column(df, col, order):\n",
    "    df[col] = pd.Categorical(df[col], categories=order, ordered=True)\n",
    "    df = df.sort_values(by=col).reset_index(drop=True)\n",
    "    return df\n",
    "\n",
    "income_order = [\n",
    "    \"No Income\",\n",
    "    \"$5,000 to $9,999\",\n",
    "    \"$10,000 to $14,999\",\n",
    "    \"$15,000 to $24,999\",\n",
    "    \"$25,000 to $34,999\",\n",
    "    \"$35,000 to $49,999\",\n",
    "    \"$50,000 to $74,999\",\n",
    "    \"$75,000 and over\",\n",
    "]\n",
    "\n",
    "edu_order = [\n",
    "    \"No high school diploma\",\n",
    "    \"High school or equivalent\",\n",
    "    \"Some college, less than 4-yr degree\",\n",
    "    \"Bachelor's degree or higher\",\n",
    "]\n",
    "\n",
    "race_order = [\"White\", \"African American\", \"Asian\", \"Hispanic\", \"Other\"]\n",
    "age_order = [\"00 to 17\", \"18 to 64\", \"65 to 80+\"]\n",
    "gender_order = [\"Male\", \"Female\"]"
   ]
  },
  {
   "cell_type": "code",
   "execution_count": 34,
   "metadata": {},
   "outputs": [
    {
     "name": "stdout",
     "output_type": "stream",
     "text": [
      "\\begin{table}[!htb]\n",
      "\\caption{Values for each column in demographics dataset}\n",
      "\\label{tab:demo-cols}\n",
      "\\begin{tabular}{ll}\n",
      "\\toprule\n",
      "Column & Values \\\\\n",
      "\\midrule\n",
      "Age & 00 to 17, 18 to 64, 65 to 80+ \\\\\n",
      "Gender & Male, Female \\\\\n",
      "Educational Attainment & No high school diploma, High school or equivalent, Some college, less than 4-yr degree, Bachelor's degree or higher \\\\\n",
      "Race & White, African American, Asian, Hispanic, Other \\\\\n",
      "Personal Income & No Income, \\$5,000 to \\$9,999, \\$10,000 to \\$14,999, \\$15,000 to \\$24,999, \\$25,000 to \\$34,999, \\$35,000 to \\$49,999, \\$50,000 to \\$74,999, \\$75,000 and over \\\\\n",
      "\\bottomrule\n",
      "\\end{tabular}\n",
      "\\end{table}\n",
      "\n"
     ]
    }
   ],
   "source": [
    "\n",
    "latex_args = {\n",
    "    \"index\":False,\n",
    "    \"escape\":True,\n",
    "    \"float_format\":\"{:.3f}\".format,\n",
    "    \"multirow\":True,\n",
    "    \"multicolumn\":True,\n",
    "    \"position\":\"!htb\",\n",
    "    \"caption\":\"Values for each column in demographics dataset\",\n",
    "    \"label\":\"tab:demo-cols\"\n",
    "}\n",
    "print(pd.DataFrame(columns=[\"Column\", \"Values\"], data=[\n",
    "    [\"Age\", \", \".join(age_order)],\n",
    "    [\"Gender\", \", \".join(gender_order)],\n",
    "    [\"Educational Attainment\", \", \".join(edu_order)],\n",
    "    [\"Race\", \", \".join(race_order)],\n",
    "    [\"Personal Income\", \", \".join(income_order)],\n",
    "    ]).to_latex(**latex_args))"
   ]
  }
 ],
 "metadata": {
  "kernelspec": {
   "display_name": "Python 3 (ipykernel)",
   "language": "python",
   "name": "python3"
  },
  "language_info": {
   "codemirror_mode": {
    "name": "ipython",
    "version": 3
   },
   "file_extension": ".py",
   "mimetype": "text/x-python",
   "name": "python",
   "nbconvert_exporter": "python",
   "pygments_lexer": "ipython3",
   "version": "3.10.12"
  },
  "varInspector": {
   "cols": {
    "lenName": 16,
    "lenType": 16,
    "lenVar": 40
   },
   "kernels_config": {
    "python": {
     "delete_cmd_postfix": "",
     "delete_cmd_prefix": "del ",
     "library": "var_list.py",
     "varRefreshCmd": "print(var_dic_list())"
    },
    "r": {
     "delete_cmd_postfix": ") ",
     "delete_cmd_prefix": "rm(",
     "library": "var_list.r",
     "varRefreshCmd": "cat(var_dic_list()) "
    }
   },
   "types_to_exclude": [
    "module",
    "function",
    "builtin_function_or_method",
    "instance",
    "_Feature"
   ],
   "window_display": false
  }
 },
 "nbformat": 4,
 "nbformat_minor": 5
}
