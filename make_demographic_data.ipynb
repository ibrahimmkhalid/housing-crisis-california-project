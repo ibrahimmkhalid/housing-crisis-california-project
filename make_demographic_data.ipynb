{
 "cells": [
  {
   "cell_type": "code",
   "execution_count": 1,
   "id": "705b5300",
   "metadata": {},
   "outputs": [
    {
     "data": {
      "text/plain": [
       "['ACSPUMS1Y2008_2025-04-18T01_42_24.468Z.csv',\n",
       " 'ACSPUMS1Y2009_2025-04-18T01_49_09.995Z.csv',\n",
       " 'ACSPUMS1Y2010_2025-04-18T01_49_30.054Z.csv',\n",
       " 'ACSPUMS1Y2011_2025-04-18T01_49_46.080Z.csv',\n",
       " 'ACSPUMS1Y2012_2025-04-18T01_49_53.653Z.csv',\n",
       " 'ACSPUMS1Y2013_2025-04-18T01_50_39.051Z.csv',\n",
       " 'ACSPUMS1Y2014_2025-04-18T01_50_57.848Z.csv',\n",
       " 'ACSPUMS1Y2015_2025-04-18T01_51_26.881Z.csv',\n",
       " 'ACSPUMS1Y2016_2025-04-18T01_51_51.146Z.csv',\n",
       " 'ACSPUMS1Y2017_2025-04-18T01_52_12.846Z.csv',\n",
       " 'ACSPUMS1Y2018_2025-04-18T01_55_16.450Z.csv',\n",
       " 'ACSPUMS1Y2019_2025-04-18T01_55_34.429Z.csv',\n",
       " 'ACSPUMS1Y2021_2025-04-18T01_55_46.264Z.csv',\n",
       " 'ACSPUMS1Y2022_2025-04-18T01_56_21.225Z.csv',\n",
       " 'ACSPUMS1Y2023_2025-04-18T01_56_30.189Z.csv']"
      ]
     },
     "execution_count": 1,
     "metadata": {},
     "output_type": "execute_result"
    }
   ],
   "source": [
    "import os\n",
    "import pandas as pd\n",
    "import re\n",
    "\n",
    "files = sorted(os.listdir(\"./data/census.gov\"))\n",
    "files"
   ]
  },
  {
   "cell_type": "code",
   "execution_count": 2,
   "id": "4d6f0cdd",
   "metadata": {},
   "outputs": [],
   "source": [
    "df = pd.DataFrame(\n",
    "    columns=[\n",
    "        \"Year\",\n",
    "        \"Age\",\n",
    "        \"Gender\",\n",
    "        \"Educational Attainment\",\n",
    "        \"Race\",\n",
    "        \"Personal Income\",\n",
    "        \"Population Count\",\n",
    "    ]\n",
    ")"
   ]
  },
  {
   "cell_type": "code",
   "execution_count": 3,
   "id": "371178f5",
   "metadata": {},
   "outputs": [],
   "source": [
    "def count_arrows(line):\n",
    "    n = 0\n",
    "    for i in range(len(line)):\n",
    "        if line[i] == \"-\":\n",
    "            if line[i + 1] == \">\":\n",
    "                n += 1\n",
    "    return n\n",
    "\n",
    "\n",
    "def cleanup(fn):\n",
    "    with open(\"./data/census.gov/\" + fn, \"r\") as fd:\n",
    "        content = fd.readlines()\n",
    "    year = re.search(\"(\\d\\d\\d\\d)\", content[0]).groups()[0]\n",
    "    content = content[11:]\n",
    "    first = True\n",
    "    for line in content:\n",
    "        ar = count_arrows(line)\n",
    "        if ar == 4:\n",
    "            parts = line.split(\"->\")\n",
    "            ag = parts[1].strip()\n",
    "            gn = parts[2].strip()\n",
    "            ed = parts[3].strip()\n",
    "            rc = parts[4].strip().split('\"')[0]\n",
    "            pass\n",
    "        elif ar == 0:\n",
    "            parts = line.split('\"')\n",
    "            pi = parts[3].strip()\n",
    "            cn = parts[5].strip()\n",
    "            pass\n",
    "        else:\n",
    "            pass\n",
    "        if first:\n",
    "            first = False\n",
    "            continue\n",
    "        df.loc[len(df)] = (year, ag, gn, ed, rc, pi, cn)"
   ]
  },
  {
   "cell_type": "code",
   "execution_count": 4,
   "id": "ccfb8460",
   "metadata": {},
   "outputs": [
    {
     "name": "stdout",
     "output_type": "stream",
     "text": [
      "ACSPUMS1Y2008_2025-04-18T01_42_24.468Z.csv\n",
      "ACSPUMS1Y2009_2025-04-18T01_49_09.995Z.csv\n",
      "ACSPUMS1Y2010_2025-04-18T01_49_30.054Z.csv\n",
      "ACSPUMS1Y2011_2025-04-18T01_49_46.080Z.csv\n",
      "ACSPUMS1Y2012_2025-04-18T01_49_53.653Z.csv\n",
      "ACSPUMS1Y2013_2025-04-18T01_50_39.051Z.csv\n",
      "ACSPUMS1Y2014_2025-04-18T01_50_57.848Z.csv\n",
      "ACSPUMS1Y2015_2025-04-18T01_51_26.881Z.csv\n",
      "ACSPUMS1Y2016_2025-04-18T01_51_51.146Z.csv\n",
      "ACSPUMS1Y2017_2025-04-18T01_52_12.846Z.csv\n",
      "ACSPUMS1Y2018_2025-04-18T01_55_16.450Z.csv\n",
      "ACSPUMS1Y2019_2025-04-18T01_55_34.429Z.csv\n",
      "ACSPUMS1Y2021_2025-04-18T01_55_46.264Z.csv\n",
      "ACSPUMS1Y2022_2025-04-18T01_56_21.225Z.csv\n",
      "ACSPUMS1Y2023_2025-04-18T01_56_30.189Z.csv\n"
     ]
    }
   ],
   "source": [
    "for fn in files:\n",
    "    print(fn)\n",
    "    cleanup(fn)"
   ]
  },
  {
   "cell_type": "code",
   "execution_count": 5,
   "id": "55663fff",
   "metadata": {},
   "outputs": [
    {
     "data": {
      "text/html": [
       "<div>\n",
       "<style scoped>\n",
       "    .dataframe tbody tr th:only-of-type {\n",
       "        vertical-align: middle;\n",
       "    }\n",
       "\n",
       "    .dataframe tbody tr th {\n",
       "        vertical-align: top;\n",
       "    }\n",
       "\n",
       "    .dataframe thead th {\n",
       "        text-align: right;\n",
       "    }\n",
       "</style>\n",
       "<table border=\"1\" class=\"dataframe\">\n",
       "  <thead>\n",
       "    <tr style=\"text-align: right;\">\n",
       "      <th></th>\n",
       "      <th>Year</th>\n",
       "      <th>Age</th>\n",
       "      <th>Gender</th>\n",
       "      <th>Educational Attainment</th>\n",
       "      <th>Race</th>\n",
       "      <th>Personal Income</th>\n",
       "      <th>Population Count</th>\n",
       "    </tr>\n",
       "  </thead>\n",
       "  <tbody>\n",
       "    <tr>\n",
       "      <th>0</th>\n",
       "      <td>2008</td>\n",
       "      <td>00 to 17</td>\n",
       "      <td>Male</td>\n",
       "      <td>High school or equivalent</td>\n",
       "      <td>White</td>\n",
       "      <td>$5,000 to $9,999</td>\n",
       "      <td>1,834</td>\n",
       "    </tr>\n",
       "    <tr>\n",
       "      <th>1</th>\n",
       "      <td>2008</td>\n",
       "      <td>00 to 17</td>\n",
       "      <td>Male</td>\n",
       "      <td>High school or equivalent</td>\n",
       "      <td>White</td>\n",
       "      <td>$10,000 to $14,999</td>\n",
       "      <td>381</td>\n",
       "    </tr>\n",
       "    <tr>\n",
       "      <th>2</th>\n",
       "      <td>2008</td>\n",
       "      <td>00 to 17</td>\n",
       "      <td>Male</td>\n",
       "      <td>High school or equivalent</td>\n",
       "      <td>White</td>\n",
       "      <td>$15,000 to $24,999</td>\n",
       "      <td>135</td>\n",
       "    </tr>\n",
       "    <tr>\n",
       "      <th>3</th>\n",
       "      <td>2008</td>\n",
       "      <td>00 to 17</td>\n",
       "      <td>Male</td>\n",
       "      <td>High school or equivalent</td>\n",
       "      <td>White</td>\n",
       "      <td>$25,000 to $34,999</td>\n",
       "      <td>268</td>\n",
       "    </tr>\n",
       "    <tr>\n",
       "      <th>4</th>\n",
       "      <td>2008</td>\n",
       "      <td>00 to 17</td>\n",
       "      <td>Male</td>\n",
       "      <td>High school or equivalent</td>\n",
       "      <td>White</td>\n",
       "      <td>$35,000 to $49,999</td>\n",
       "      <td>0</td>\n",
       "    </tr>\n",
       "  </tbody>\n",
       "</table>\n",
       "</div>"
      ],
      "text/plain": [
       "   Year       Age Gender     Educational Attainment   Race  \\\n",
       "0  2008  00 to 17   Male  High school or equivalent  White   \n",
       "1  2008  00 to 17   Male  High school or equivalent  White   \n",
       "2  2008  00 to 17   Male  High school or equivalent  White   \n",
       "3  2008  00 to 17   Male  High school or equivalent  White   \n",
       "4  2008  00 to 17   Male  High school or equivalent  White   \n",
       "\n",
       "      Personal Income Population Count  \n",
       "0    $5,000 to $9,999            1,834  \n",
       "1  $10,000 to $14,999              381  \n",
       "2  $15,000 to $24,999              135  \n",
       "3  $25,000 to $34,999              268  \n",
       "4  $35,000 to $49,999                0  "
      ]
     },
     "execution_count": 5,
     "metadata": {},
     "output_type": "execute_result"
    }
   ],
   "source": [
    "df.head()"
   ]
  },
  {
   "cell_type": "code",
   "execution_count": 6,
   "id": "76bed55b",
   "metadata": {},
   "outputs": [
    {
     "data": {
      "text/html": [
       "<div>\n",
       "<style scoped>\n",
       "    .dataframe tbody tr th:only-of-type {\n",
       "        vertical-align: middle;\n",
       "    }\n",
       "\n",
       "    .dataframe tbody tr th {\n",
       "        vertical-align: top;\n",
       "    }\n",
       "\n",
       "    .dataframe thead th {\n",
       "        text-align: right;\n",
       "    }\n",
       "</style>\n",
       "<table border=\"1\" class=\"dataframe\">\n",
       "  <thead>\n",
       "    <tr style=\"text-align: right;\">\n",
       "      <th></th>\n",
       "      <th>Year</th>\n",
       "      <th>Age</th>\n",
       "      <th>Gender</th>\n",
       "      <th>Educational Attainment</th>\n",
       "      <th>Race</th>\n",
       "      <th>Personal Income</th>\n",
       "      <th>Population Count</th>\n",
       "    </tr>\n",
       "  </thead>\n",
       "  <tbody>\n",
       "    <tr>\n",
       "      <th>16630</th>\n",
       "      <td>2023</td>\n",
       "      <td>65 to 80+</td>\n",
       "      <td>Female</td>\n",
       "      <td>No high school diploma</td>\n",
       "      <td>Other</td>\n",
       "      <td>$25,000 to $34,999</td>\n",
       "      <td>16,756</td>\n",
       "    </tr>\n",
       "    <tr>\n",
       "      <th>16631</th>\n",
       "      <td>2023</td>\n",
       "      <td>65 to 80+</td>\n",
       "      <td>Female</td>\n",
       "      <td>No high school diploma</td>\n",
       "      <td>Other</td>\n",
       "      <td>$35,000 to $49,999</td>\n",
       "      <td>11,705</td>\n",
       "    </tr>\n",
       "    <tr>\n",
       "      <th>16632</th>\n",
       "      <td>2023</td>\n",
       "      <td>65 to 80+</td>\n",
       "      <td>Female</td>\n",
       "      <td>No high school diploma</td>\n",
       "      <td>Other</td>\n",
       "      <td>$50,000 to $74,999</td>\n",
       "      <td>4,835</td>\n",
       "    </tr>\n",
       "    <tr>\n",
       "      <th>16633</th>\n",
       "      <td>2023</td>\n",
       "      <td>65 to 80+</td>\n",
       "      <td>Female</td>\n",
       "      <td>No high school diploma</td>\n",
       "      <td>Other</td>\n",
       "      <td>$75,000 and over</td>\n",
       "      <td>3,176</td>\n",
       "    </tr>\n",
       "    <tr>\n",
       "      <th>16634</th>\n",
       "      <td>2023</td>\n",
       "      <td>65 to 80+</td>\n",
       "      <td>Female</td>\n",
       "      <td>No high school diploma</td>\n",
       "      <td>Other</td>\n",
       "      <td>No Income</td>\n",
       "      <td>58,486</td>\n",
       "    </tr>\n",
       "  </tbody>\n",
       "</table>\n",
       "</div>"
      ],
      "text/plain": [
       "       Year        Age  Gender  Educational Attainment   Race  \\\n",
       "16630  2023  65 to 80+  Female  No high school diploma  Other   \n",
       "16631  2023  65 to 80+  Female  No high school diploma  Other   \n",
       "16632  2023  65 to 80+  Female  No high school diploma  Other   \n",
       "16633  2023  65 to 80+  Female  No high school diploma  Other   \n",
       "16634  2023  65 to 80+  Female  No high school diploma  Other   \n",
       "\n",
       "          Personal Income Population Count  \n",
       "16630  $25,000 to $34,999           16,756  \n",
       "16631  $35,000 to $49,999           11,705  \n",
       "16632  $50,000 to $74,999            4,835  \n",
       "16633    $75,000 and over            3,176  \n",
       "16634           No Income           58,486  "
      ]
     },
     "execution_count": 6,
     "metadata": {},
     "output_type": "execute_result"
    }
   ],
   "source": [
    "df.tail()"
   ]
  },
  {
   "cell_type": "code",
   "execution_count": 7,
   "id": "a8685b52",
   "metadata": {},
   "outputs": [],
   "source": [
    "df.to_csv(\"./data/in/data.gov_personal_income.csv\", index=False)"
   ]
  }
 ],
 "metadata": {
  "kernelspec": {
   "display_name": "Python 3 (ipykernel)",
   "language": "python",
   "name": "python3"
  },
  "language_info": {
   "codemirror_mode": {
    "name": "ipython",
    "version": 3
   },
   "file_extension": ".py",
   "mimetype": "text/x-python",
   "name": "python",
   "nbconvert_exporter": "python",
   "pygments_lexer": "ipython3",
   "version": "3.10.12"
  },
  "varInspector": {
   "cols": {
    "lenName": 16,
    "lenType": 16,
    "lenVar": 40
   },
   "kernels_config": {
    "python": {
     "delete_cmd_postfix": "",
     "delete_cmd_prefix": "del ",
     "library": "var_list.py",
     "varRefreshCmd": "print(var_dic_list())"
    },
    "r": {
     "delete_cmd_postfix": ") ",
     "delete_cmd_prefix": "rm(",
     "library": "var_list.r",
     "varRefreshCmd": "cat(var_dic_list()) "
    }
   },
   "types_to_exclude": [
    "module",
    "function",
    "builtin_function_or_method",
    "instance",
    "_Feature"
   ],
   "window_display": false
  }
 },
 "nbformat": 4,
 "nbformat_minor": 5
}
